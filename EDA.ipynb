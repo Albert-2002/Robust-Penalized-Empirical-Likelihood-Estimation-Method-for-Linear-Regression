{
 "cells": [
  {
   "cell_type": "markdown",
   "metadata": {},
   "source": [
    "**Real Data Example:**\n",
    "The study uses alcohol solubility data from Romanelli et al. The dependent variable is ln(Sol)exp (natural log of solubility in water). The dataset contains 44 observations of aliphatic alcohols. There are 6 independent variables:\n",
    "**Log P (octanol-water partition coefficient) - measures hydrophobicity, P (polarizability), SAG (solvent-accessible surface-bounded molecular volume), Mass (M), RM (molar refractivity), V (volume)**"
   ]
  },
  {
   "cell_type": "code",
   "execution_count": 1,
   "metadata": {},
   "outputs": [],
   "source": [
    "import numpy as np\n",
    "import pandas as pd\n",
    "from scipy.stats import chi2\n",
    "import matplotlib.pyplot as plt"
   ]
  },
  {
   "cell_type": "code",
   "execution_count": 2,
   "metadata": {},
   "outputs": [],
   "source": [
    "df = pd.read_csv('C:/Users/91959/Desktop/CODE'\n",
    "                '/Robust-Penalized-Empirical-Likelihood-Estimation-Method-for-Linear-Regression/Data/Alcohol.csv')\n",
    "\n",
    "X = df.drop(['Alcohol', 'ln (Sol)exp'], axis=1)\n",
    "y = df['ln (Sol)exp']"
   ]
  },
  {
   "cell_type": "code",
   "execution_count": 3,
   "metadata": {},
   "outputs": [
    {
     "name": "stdout",
     "output_type": "stream",
     "text": [
      "<class 'pandas.core.frame.DataFrame'>\n",
      "RangeIndex: 44 entries, 0 to 43\n",
      "Data columns (total 8 columns):\n",
      " #   Column       Non-Null Count  Dtype  \n",
      "---  ------       --------------  -----  \n",
      " 0   Alcohol      44 non-null     object \n",
      " 1   SAG          44 non-null     float64\n",
      " 2   V            44 non-null     float64\n",
      " 3   Log P        44 non-null     float64\n",
      " 4   P            44 non-null     float64\n",
      " 5   RM           44 non-null     float64\n",
      " 6   Mass         44 non-null     float64\n",
      " 7   ln (Sol)exp  44 non-null     float64\n",
      "dtypes: float64(7), object(1)\n",
      "memory usage: 2.9+ KB\n"
     ]
    }
   ],
   "source": [
    "# 1. Dataset Description\n",
    "df.info()"
   ]
  },
  {
   "cell_type": "code",
   "execution_count": 4,
   "metadata": {},
   "outputs": [
    {
     "data": {
      "application/vnd.microsoft.datawrangler.viewer.v0+json": {
       "columns": [
        {
         "name": "index",
         "rawType": "object",
         "type": "string"
        },
        {
         "name": "SAG",
         "rawType": "float64",
         "type": "float"
        },
        {
         "name": "V",
         "rawType": "float64",
         "type": "float"
        },
        {
         "name": "Log P",
         "rawType": "float64",
         "type": "float"
        },
        {
         "name": "P",
         "rawType": "float64",
         "type": "float"
        },
        {
         "name": "RM",
         "rawType": "float64",
         "type": "float"
        },
        {
         "name": "Mass",
         "rawType": "float64",
         "type": "float"
        },
        {
         "name": "ln (Sol)exp",
         "rawType": "float64",
         "type": "float"
        }
       ],
       "conversionMethod": "pd.DataFrame",
       "ref": "e1bb6676-05fc-4af5-b422-e7830f4d2feb",
       "rows": [
        [
         "count",
         "44.0",
         "44.0",
         "44.0",
         "44.0",
         "44.0",
         "44.0",
         "44.0"
        ],
        [
         "mean",
         "337.7888636363636",
         "509.64045454545465",
         "2.254318181818182",
         "14.88340909090909",
         "37.32772727272728",
         "120.98590909090909",
         "-3.7105643181818193"
        ],
        [
         "std",
         "74.01145628528967",
         "128.5935376501089",
         "0.9406934545725759",
         "4.316224094437615",
         "10.847843395924128",
         "32.99240365833222",
         "3.284330345791296"
        ],
        [
         "min",
         "247.55",
         "344.91",
         "0.94",
         "8.75",
         "21.95",
         "74.12",
         "-14.61402"
        ],
        [
         "25%",
         "290.3825",
         "429.65500000000003",
         "1.6775",
         "12.42",
         "31.064999999999998",
         "102.18",
         "-5.6157125"
        ],
        [
         "50%",
         "312.345",
         "471.96500000000003",
         "2.05",
         "14.26",
         "35.635000000000005",
         "116.2",
         "-2.7525950000000003"
        ],
        [
         "75%",
         "371.28249999999997",
         "565.0575",
         "2.8649999999999998",
         "17.93",
         "44.7875",
         "144.26",
         "-1.5438475"
        ],
        [
         "max",
         "587.0",
         "938.54",
         "5.3",
         "28.94",
         "72.75",
         "228.42",
         "0.33861"
        ]
       ],
       "shape": {
        "columns": 7,
        "rows": 8
       }
      },
      "text/html": [
       "<div>\n",
       "<style scoped>\n",
       "    .dataframe tbody tr th:only-of-type {\n",
       "        vertical-align: middle;\n",
       "    }\n",
       "\n",
       "    .dataframe tbody tr th {\n",
       "        vertical-align: top;\n",
       "    }\n",
       "\n",
       "    .dataframe thead th {\n",
       "        text-align: right;\n",
       "    }\n",
       "</style>\n",
       "<table border=\"1\" class=\"dataframe\">\n",
       "  <thead>\n",
       "    <tr style=\"text-align: right;\">\n",
       "      <th></th>\n",
       "      <th>SAG</th>\n",
       "      <th>V</th>\n",
       "      <th>Log P</th>\n",
       "      <th>P</th>\n",
       "      <th>RM</th>\n",
       "      <th>Mass</th>\n",
       "      <th>ln (Sol)exp</th>\n",
       "    </tr>\n",
       "  </thead>\n",
       "  <tbody>\n",
       "    <tr>\n",
       "      <th>count</th>\n",
       "      <td>44.000000</td>\n",
       "      <td>44.000000</td>\n",
       "      <td>44.000000</td>\n",
       "      <td>44.000000</td>\n",
       "      <td>44.000000</td>\n",
       "      <td>44.000000</td>\n",
       "      <td>44.000000</td>\n",
       "    </tr>\n",
       "    <tr>\n",
       "      <th>mean</th>\n",
       "      <td>337.788864</td>\n",
       "      <td>509.640455</td>\n",
       "      <td>2.254318</td>\n",
       "      <td>14.883409</td>\n",
       "      <td>37.327727</td>\n",
       "      <td>120.985909</td>\n",
       "      <td>-3.710564</td>\n",
       "    </tr>\n",
       "    <tr>\n",
       "      <th>std</th>\n",
       "      <td>74.011456</td>\n",
       "      <td>128.593538</td>\n",
       "      <td>0.940693</td>\n",
       "      <td>4.316224</td>\n",
       "      <td>10.847843</td>\n",
       "      <td>32.992404</td>\n",
       "      <td>3.284330</td>\n",
       "    </tr>\n",
       "    <tr>\n",
       "      <th>min</th>\n",
       "      <td>247.550000</td>\n",
       "      <td>344.910000</td>\n",
       "      <td>0.940000</td>\n",
       "      <td>8.750000</td>\n",
       "      <td>21.950000</td>\n",
       "      <td>74.120000</td>\n",
       "      <td>-14.614020</td>\n",
       "    </tr>\n",
       "    <tr>\n",
       "      <th>25%</th>\n",
       "      <td>290.382500</td>\n",
       "      <td>429.655000</td>\n",
       "      <td>1.677500</td>\n",
       "      <td>12.420000</td>\n",
       "      <td>31.065000</td>\n",
       "      <td>102.180000</td>\n",
       "      <td>-5.615712</td>\n",
       "    </tr>\n",
       "    <tr>\n",
       "      <th>50%</th>\n",
       "      <td>312.345000</td>\n",
       "      <td>471.965000</td>\n",
       "      <td>2.050000</td>\n",
       "      <td>14.260000</td>\n",
       "      <td>35.635000</td>\n",
       "      <td>116.200000</td>\n",
       "      <td>-2.752595</td>\n",
       "    </tr>\n",
       "    <tr>\n",
       "      <th>75%</th>\n",
       "      <td>371.282500</td>\n",
       "      <td>565.057500</td>\n",
       "      <td>2.865000</td>\n",
       "      <td>17.930000</td>\n",
       "      <td>44.787500</td>\n",
       "      <td>144.260000</td>\n",
       "      <td>-1.543848</td>\n",
       "    </tr>\n",
       "    <tr>\n",
       "      <th>max</th>\n",
       "      <td>587.000000</td>\n",
       "      <td>938.540000</td>\n",
       "      <td>5.300000</td>\n",
       "      <td>28.940000</td>\n",
       "      <td>72.750000</td>\n",
       "      <td>228.420000</td>\n",
       "      <td>0.338610</td>\n",
       "    </tr>\n",
       "  </tbody>\n",
       "</table>\n",
       "</div>"
      ],
      "text/plain": [
       "              SAG           V      Log P          P         RM        Mass  \\\n",
       "count   44.000000   44.000000  44.000000  44.000000  44.000000   44.000000   \n",
       "mean   337.788864  509.640455   2.254318  14.883409  37.327727  120.985909   \n",
       "std     74.011456  128.593538   0.940693   4.316224  10.847843   32.992404   \n",
       "min    247.550000  344.910000   0.940000   8.750000  21.950000   74.120000   \n",
       "25%    290.382500  429.655000   1.677500  12.420000  31.065000  102.180000   \n",
       "50%    312.345000  471.965000   2.050000  14.260000  35.635000  116.200000   \n",
       "75%    371.282500  565.057500   2.865000  17.930000  44.787500  144.260000   \n",
       "max    587.000000  938.540000   5.300000  28.940000  72.750000  228.420000   \n",
       "\n",
       "       ln (Sol)exp  \n",
       "count    44.000000  \n",
       "mean     -3.710564  \n",
       "std       3.284330  \n",
       "min     -14.614020  \n",
       "25%      -5.615712  \n",
       "50%      -2.752595  \n",
       "75%      -1.543848  \n",
       "max       0.338610  "
      ]
     },
     "execution_count": 4,
     "metadata": {},
     "output_type": "execute_result"
    }
   ],
   "source": [
    "# 2. Basic Statistical Summary\n",
    "df.describe()"
   ]
  },
  {
   "cell_type": "code",
   "execution_count": 5,
   "metadata": {},
   "outputs": [
    {
     "data": {
      "application/vnd.microsoft.datawrangler.viewer.v0+json": {
       "columns": [
        {
         "name": "index",
         "rawType": "object",
         "type": "string"
        },
        {
         "name": "SAG",
         "rawType": "float64",
         "type": "float"
        },
        {
         "name": "V",
         "rawType": "float64",
         "type": "float"
        },
        {
         "name": "Log P",
         "rawType": "float64",
         "type": "float"
        },
        {
         "name": "P",
         "rawType": "float64",
         "type": "float"
        },
        {
         "name": "RM",
         "rawType": "float64",
         "type": "float"
        },
        {
         "name": "Mass",
         "rawType": "float64",
         "type": "float"
        },
        {
         "name": "ln (Sol)exp",
         "rawType": "float64",
         "type": "float"
        }
       ],
       "conversionMethod": "pd.DataFrame",
       "ref": "4d32e1db-4424-47aa-a1d6-1720d19f7611",
       "rows": [
        [
         "SAG",
         "1.0",
         "0.997048348902554",
         "0.97397592925338",
         "0.9783841319703881",
         "0.9800329014891979",
         "0.9784016874703214",
         "-0.986840405142372"
        ],
        [
         "V",
         "0.997048348902554",
         "1.0",
         "0.9862532964574255",
         "0.9911227964483805",
         "0.9920747117617277",
         "0.9911339255033449",
         "-0.9888822135233627"
        ],
        [
         "Log P",
         "0.97397592925338",
         "0.9862532964574255",
         "1.0",
         "0.9934284552946294",
         "0.9924252143505197",
         "0.993424711473663",
         "-0.9802290699739526"
        ],
        [
         "P",
         "0.9783841319703881",
         "0.9911227964483805",
         "0.9934284552946294",
         "1.0",
         "0.999810339608239",
         "0.9999998181842865",
         "-0.978261235579864"
        ],
        [
         "RM",
         "0.9800329014891979",
         "0.9920747117617277",
         "0.9924252143505197",
         "0.999810339608239",
         "1.0",
         "0.9998112797438127",
         "-0.9793907659519232"
        ],
        [
         "Mass",
         "0.9784016874703214",
         "0.9911339255033449",
         "0.993424711473663",
         "0.9999998181842865",
         "0.9998112797438127",
         "1.0",
         "-0.9782856701036984"
        ],
        [
         "ln (Sol)exp",
         "-0.986840405142372",
         "-0.9888822135233627",
         "-0.9802290699739526",
         "-0.978261235579864",
         "-0.9793907659519232",
         "-0.9782856701036984",
         "1.0"
        ]
       ],
       "shape": {
        "columns": 7,
        "rows": 7
       }
      },
      "text/html": [
       "<div>\n",
       "<style scoped>\n",
       "    .dataframe tbody tr th:only-of-type {\n",
       "        vertical-align: middle;\n",
       "    }\n",
       "\n",
       "    .dataframe tbody tr th {\n",
       "        vertical-align: top;\n",
       "    }\n",
       "\n",
       "    .dataframe thead th {\n",
       "        text-align: right;\n",
       "    }\n",
       "</style>\n",
       "<table border=\"1\" class=\"dataframe\">\n",
       "  <thead>\n",
       "    <tr style=\"text-align: right;\">\n",
       "      <th></th>\n",
       "      <th>SAG</th>\n",
       "      <th>V</th>\n",
       "      <th>Log P</th>\n",
       "      <th>P</th>\n",
       "      <th>RM</th>\n",
       "      <th>Mass</th>\n",
       "      <th>ln (Sol)exp</th>\n",
       "    </tr>\n",
       "  </thead>\n",
       "  <tbody>\n",
       "    <tr>\n",
       "      <th>SAG</th>\n",
       "      <td>1.000000</td>\n",
       "      <td>0.997048</td>\n",
       "      <td>0.973976</td>\n",
       "      <td>0.978384</td>\n",
       "      <td>0.980033</td>\n",
       "      <td>0.978402</td>\n",
       "      <td>-0.986840</td>\n",
       "    </tr>\n",
       "    <tr>\n",
       "      <th>V</th>\n",
       "      <td>0.997048</td>\n",
       "      <td>1.000000</td>\n",
       "      <td>0.986253</td>\n",
       "      <td>0.991123</td>\n",
       "      <td>0.992075</td>\n",
       "      <td>0.991134</td>\n",
       "      <td>-0.988882</td>\n",
       "    </tr>\n",
       "    <tr>\n",
       "      <th>Log P</th>\n",
       "      <td>0.973976</td>\n",
       "      <td>0.986253</td>\n",
       "      <td>1.000000</td>\n",
       "      <td>0.993428</td>\n",
       "      <td>0.992425</td>\n",
       "      <td>0.993425</td>\n",
       "      <td>-0.980229</td>\n",
       "    </tr>\n",
       "    <tr>\n",
       "      <th>P</th>\n",
       "      <td>0.978384</td>\n",
       "      <td>0.991123</td>\n",
       "      <td>0.993428</td>\n",
       "      <td>1.000000</td>\n",
       "      <td>0.999810</td>\n",
       "      <td>1.000000</td>\n",
       "      <td>-0.978261</td>\n",
       "    </tr>\n",
       "    <tr>\n",
       "      <th>RM</th>\n",
       "      <td>0.980033</td>\n",
       "      <td>0.992075</td>\n",
       "      <td>0.992425</td>\n",
       "      <td>0.999810</td>\n",
       "      <td>1.000000</td>\n",
       "      <td>0.999811</td>\n",
       "      <td>-0.979391</td>\n",
       "    </tr>\n",
       "    <tr>\n",
       "      <th>Mass</th>\n",
       "      <td>0.978402</td>\n",
       "      <td>0.991134</td>\n",
       "      <td>0.993425</td>\n",
       "      <td>1.000000</td>\n",
       "      <td>0.999811</td>\n",
       "      <td>1.000000</td>\n",
       "      <td>-0.978286</td>\n",
       "    </tr>\n",
       "    <tr>\n",
       "      <th>ln (Sol)exp</th>\n",
       "      <td>-0.986840</td>\n",
       "      <td>-0.988882</td>\n",
       "      <td>-0.980229</td>\n",
       "      <td>-0.978261</td>\n",
       "      <td>-0.979391</td>\n",
       "      <td>-0.978286</td>\n",
       "      <td>1.000000</td>\n",
       "    </tr>\n",
       "  </tbody>\n",
       "</table>\n",
       "</div>"
      ],
      "text/plain": [
       "                  SAG         V     Log P         P        RM      Mass  \\\n",
       "SAG          1.000000  0.997048  0.973976  0.978384  0.980033  0.978402   \n",
       "V            0.997048  1.000000  0.986253  0.991123  0.992075  0.991134   \n",
       "Log P        0.973976  0.986253  1.000000  0.993428  0.992425  0.993425   \n",
       "P            0.978384  0.991123  0.993428  1.000000  0.999810  1.000000   \n",
       "RM           0.980033  0.992075  0.992425  0.999810  1.000000  0.999811   \n",
       "Mass         0.978402  0.991134  0.993425  1.000000  0.999811  1.000000   \n",
       "ln (Sol)exp -0.986840 -0.988882 -0.980229 -0.978261 -0.979391 -0.978286   \n",
       "\n",
       "             ln (Sol)exp  \n",
       "SAG            -0.986840  \n",
       "V              -0.988882  \n",
       "Log P          -0.980229  \n",
       "P              -0.978261  \n",
       "RM             -0.979391  \n",
       "Mass           -0.978286  \n",
       "ln (Sol)exp     1.000000  "
      ]
     },
     "execution_count": 5,
     "metadata": {},
     "output_type": "execute_result"
    }
   ],
   "source": [
    "# 3. Correlation Analysis\n",
    "correlation_matrix = df.drop('Alcohol', axis=1).corr()\n",
    "correlation_matrix"
   ]
  },
  {
   "cell_type": "code",
   "execution_count": 6,
   "metadata": {},
   "outputs": [
    {
     "data": {
      "image/png": "[encoded data removed]",
      "text/plain": [
       "<Figure size 700x800 with 6 Axes>"
      ]
     },
     "metadata": {},
     "output_type": "display_data"
    }
   ],
   "source": [
    "# 4. Feature distributions and their relationships with target\n",
    "\n",
    "fig, axes = plt.subplots(3, 2, figsize=(7, 8))\n",
    "axes = axes.ravel()\n",
    "\n",
    "for idx, column in enumerate(X.columns):\n",
    "    # Scatter plot against target\n",
    "    axes[idx].scatter(X[column], y, alpha=0.5)\n",
    "    axes[idx].set_xlabel(column)\n",
    "    axes[idx].set_ylabel('ln(Sol)exp')\n",
    "    axes[idx].set_title(f'{column} vs ln(Sol)exp')\n",
    "\n",
    "plt.tight_layout()\n",
    "plt.show()"
   ]
  },
  {
   "cell_type": "code",
   "execution_count": 7,
   "metadata": {},
   "outputs": [
    {
     "data": {
      "image/png": "[encoded data removed]",
      "text/plain": [
       "<Figure size 1000x400 with 1 Axes>"
      ]
     },
     "metadata": {},
     "output_type": "display_data"
    },
    {
     "name": "stdout",
     "output_type": "stream",
     "text": [
      "\n",
      "Detected Outliers (MD² > χ²₆,₀.₉₅):\n",
      "                   Alcohol  MD_squared\n",
      "38      3-Ethyl-3-pentanol   32.027452\n",
      "40  2,2-Diethyl-1-pentanol   16.932877\n",
      "42          1-Tetradecanol   13.352777\n",
      "\n",
      "Total number of observations: 44\n",
      "Number of outliers detected: 3\n",
      "Percentage of outliers: 6.8%\n"
     ]
    }
   ],
   "source": [
    "# 5. Calculating Mahalanobis Distance for outlier detection\n",
    "\n",
    "# Calculate mean vector and covariance matrix\n",
    "mean_vector = np.mean(X, axis=0)\n",
    "covariance_matrix = np.cov(X.T)\n",
    "\n",
    "# Calculate inverse of covariance matrix\n",
    "inv_covariance_matrix = np.linalg.inv(covariance_matrix)\n",
    "\n",
    "# Calculate Mahalanobis distance for each point\n",
    "mahalanobis_distances = []\n",
    "n = len(X)\n",
    "p = X.shape[1]  # number of variables\n",
    "\n",
    "for i in range(n):\n",
    "    x_i = X.iloc[i, :]\n",
    "    diff = x_i - mean_vector\n",
    "    md = np.sqrt(diff.dot(inv_covariance_matrix).dot(diff))\n",
    "    mahalanobis_distances.append(md)\n",
    "\n",
    "# Calculate squared distances\n",
    "md_squared = np.array(mahalanobis_distances) ** 2\n",
    "\n",
    "# Calculate critical value\n",
    "critical_value = chi2.ppf(0.95, p)  # 95% confidence level with p degrees of freedom\n",
    "\n",
    "# Identify outliers\n",
    "outliers = pd.DataFrame({\n",
    "    'Alcohol': df['Alcohol'],\n",
    "    'MD_squared': md_squared,\n",
    "    'is_outlier': md_squared > critical_value\n",
    "})\n",
    "\n",
    "# Plot the results\n",
    "plt.figure(figsize=(10, 4))\n",
    "plt.scatter(range(len(outliers)), outliers['MD_squared'],\n",
    "        c=['red' if x else 'blue' for x in outliers['is_outlier']])\n",
    "plt.axhline(y=critical_value, color='r', linestyle='--',\n",
    "        label=f'Critical Value (χ²₆,₀.₉₅ = {critical_value:.2f})')\n",
    "plt.xlabel('Observation Index')\n",
    "plt.ylabel('Squared Mahalanobis Distance')\n",
    "plt.title('Squared Mahalanobis Distances with Critical Value')\n",
    "plt.legend()\n",
    "plt.grid(True)\n",
    "plt.show()\n",
    "\n",
    "# Print outlier details\n",
    "print(\"\\nDetected Outliers (MD² > χ²₆,₀.₉₅):\")\n",
    "print(outliers[outliers['is_outlier']][['Alcohol', 'MD_squared']].sort_values('MD_squared', ascending=False))\n",
    "\n",
    "# Print summary statistics\n",
    "print(f\"\\nTotal number of observations: {len(outliers)}\")\n",
    "print(f\"Number of outliers detected: {sum(outliers['is_outlier'])}\")\n",
    "print(f\"Percentage of outliers: {(sum(outliers['is_outlier'])/len(outliers))*100:.1f}%\")"
   ]
  }
 ],
 "metadata": {
  "kernelspec": {
   "display_name": ".venv",
   "language": "python",
   "name": "python3"
  },
  "language_info": {
   "codemirror_mode": {
    "name": "ipython",
    "version": 3
   },
   "file_extension": ".py",
   "mimetype": "text/x-python",
   "name": "python",
   "nbconvert_exporter": "python",
   "pygments_lexer": "ipython3",
   "version": "3.12.4"
  }
 },
 "nbformat": 4,
 "nbformat_minor": 2
}
